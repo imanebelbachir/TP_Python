{
 "cells": [
  {
   "cell_type": "markdown",
   "metadata": {},
   "source": [
    "###deviner le nombre###\n",
    "\n"
   ]
  },
  {
   "cell_type": "code",
   "execution_count": 1,
   "metadata": {},
   "outputs": [],
   "source": [
    "import random"
   ]
  },
  {
   "cell_type": "code",
   "execution_count": 9,
   "metadata": {},
   "outputs": [
    {
     "name": "stdout",
     "output_type": "stream",
     "text": [
      "L'ordinateur a choisi un nombre entre 1 et 100 : 21\n"
     ]
    }
   ],
   "source": [
    "\n",
    "nombre_choisi = random.randint(1, 100)  # Choix d'un nombre aléatoire entre 1 et 100\n",
    "\n",
    "print(f\"L'ordinateur a choisi un nombre entre 1 et 100 : {nombre_choisi}\")"
   ]
  },
  {
   "cell_type": "code",
   "execution_count": 14,
   "metadata": {},
   "outputs": [
    {
     "name": "stdout",
     "output_type": "stream",
     "text": [
      "Trop petit !\n",
      "Trop grand !\n",
      "Trop grand !\n",
      "Veuillez entrer un nombre valide.\n",
      "Bravo ! Vous avez trouvé le nombre.\n"
     ]
    }
   ],
   "source": [
    "while True:\n",
    "    proposition = input(\"Devinez le nombre : \")  # Demande à l'utilisateur de deviner\n",
    "\n",
    "    # Vérification que l'entrée est un nombre valide\n",
    "    if not proposition.isdigit():\n",
    "        print(\"Veuillez entrer un nombre valide.\")  # Message d'erreur pour l'entrée invalide\n",
    "        continue  # Retour au début de la boucle\n",
    "\n",
    "    proposition = int(proposition)  # Conversion de l'entrée en entier\n",
    "\n",
    "    # Vérification de la proposition\n",
    "    if proposition < nombre_choisi:\n",
    "        print(\"Trop petit !\")  # Indication que la proposition est trop petite\n",
    "    elif proposition > nombre_choisi:\n",
    "        print(\"Trop grand !\")  # Indication que la proposition est trop grande\n",
    "    else:\n",
    "        print(\"Bravo ! Vous avez trouvé le nombre.\")  # Message de réussite\n",
    "        break  # Sortie de la boucle"
   ]
  },
  {
   "cell_type": "markdown",
   "metadata": {},
   "source": [
    "EXERCICE 2\n"
   ]
  },
  {
   "cell_type": "code",
   "execution_count": 44,
   "metadata": {},
   "outputs": [],
   "source": [
    "import os\n",
    "import logging\n",
    "\n",
    "# Configuration du logging\n",
    "logging.basicConfig(\n",
    "    filename='programme.log',  # Nom du fichier de log\n",
    "    level=logging.INFO,        # Niveau de gravité des messages à enregistrer\n",
    "    format='%(asctime)s - %(levelname)s - %(message)s'  # Format des messages\n",
    ")"
   ]
  },
  {
   "cell_type": "code",
   "execution_count": 45,
   "metadata": {},
   "outputs": [
    {
     "name": "stdout",
     "output_type": "stream",
     "text": [
      "le fichier'python.txt'a été trouvé\n"
     ]
    }
   ],
   "source": [
    "#pour verifier si le nom de fichier existe ou pas  dans notre folder\n",
    "nom_fichier = input(\"veuiller saisir un nom de votre fichier  avec l 'extention .txt\")\n",
    "if os.path.isfile(nom_fichier):#savoir  si le  fichier  existe\n",
    "  print(f\"le fichier'{nom_fichier}'a été trouvé\")\n",
    "else:\n",
    "  print(f\"le fichier'{nom_fichier}'n'existe pas\")"
   ]
  },
  {
   "cell_type": "code",
   "execution_count": 46,
   "metadata": {},
   "outputs": [
    {
     "name": "stdout",
     "output_type": "stream",
     "text": [
      "nmbre de fois = 6 \n"
     ]
    }
   ],
   "source": [
    "essais = 3  # Nombre maximum d'essais\n",
    "\n",
    "for i in range(essais):\n",
    "    # Vérification de l'existence du fichier\n",
    "    if os.path.isfile(nom_fichier):\n",
    "        try:\n",
    "            with open(nom_fichier, 'r') as fichier:\n",
    "                contenu = fichier.read()\n",
    "                count = contenu.count('Python')  # Compte combien de fois en a le mot  \"python\" \n",
    "                print(f\"nmbre de fois = {count} \")\n",
    "                logging.info(f\"Le mot 'Python' apparaît {count} fois dans le fichier '{nom_fichier}'.\")  # Enregistrement dans le log\n",
    "\n",
    "            break  # Sortie de la boucle après le succès\n",
    "        except Exception as e:\n",
    "            print(f\"Erreur lors de la lecture du fichier : {e}\")\n",
    "            logging.error(f\"Erreur lors de la lecture du fichier '{nom_fichier}': {e}\")  # Enregistrement de l'erreur dans le log\n",
    "\n",
    "            break  # Sortie de la boucle en cas d'erreur\n",
    "    else:\n",
    "        print(\"Le fichier n'existe pas. Veuillez réessayer.\")\n",
    "\n",
    "    "
   ]
  },
  {
   "cell_type": "markdown",
   "metadata": {},
   "source": [
    "Exercice 3"
   ]
  },
  {
   "cell_type": "code",
   "execution_count": 57,
   "metadata": {},
   "outputs": [
    {
     "name": "stdout",
     "output_type": "stream",
     "text": [
      "la reponse est '4'\n"
     ]
    }
   ],
   "source": [
    "#ecrire la fonction qui prnd n en paramètre\n",
    "nombre=int(input(\"entrer le nombre\"))\n",
    "def chaine(n):\n",
    "    logging.info(f\"Appel de la fonction chaine avec n={n}\")  # Log de l'entrée\n",
    "\n",
    "    if n%3==0 and  n%5==0:\n",
    "        return \"fizz_buzz\"\n",
    "    elif n%3==0:\n",
    "        return\"fizz\"\n",
    "    elif n%5==0:\n",
    "        return\"buzz\"\n",
    "    else :\n",
    "        return(n)\n",
    "logging.info(f\"Résultat pour n={n}: {resultat}\")  # Log du résultat\n",
    "\n",
    "resultat= chaine(nombre)\n",
    "\n",
    "print(f\"la reponse est '{resultat}'\")\n",
    "\n",
    "\n",
    "        "
   ]
  },
  {
   "cell_type": "markdown",
   "metadata": {},
   "source": [
    "exercice 4\n"
   ]
  },
  {
   "cell_type": "code",
   "execution_count": 66,
   "metadata": {},
   "outputs": [
    {
     "name": "stdout",
     "output_type": "stream",
     "text": [
      "n doit être un entier positif\n"
     ]
    }
   ],
   "source": [
    "n = int(input(\"Veuillez entrer un entier positif n : \"))\n",
    "def harmonic_sum(n):\n",
    "    if n <= 0:\n",
    "        logging.error(f\"Erreur : n doit être un entier positif, reçu : {n}\")\n",
    "        raise ValueError(\"n doit être un entier positif\")\n",
    "    if n == 1:\n",
    "        return 1\n",
    "    else:\n",
    "        return 1 / n + harmonic_sum(n - 1)\n",
    "\n",
    "try:\n",
    "    resultat = harmonic_sum(n)\n",
    "    print(f\"La somme harmonique jusqu'à {n} est : {resultat}\")\n",
    "except ValueError as e:\n",
    "    print(e)\n",
    "    logging.error(f\"Erreur lors de l'entrée utilisateur : {e}\")\n"
   ]
  },
  {
   "cell_type": "markdown",
   "metadata": {},
   "source": [
    "EXERCICE 5"
   ]
  },
  {
   "cell_type": "code",
   "execution_count": null,
   "metadata": {},
   "outputs": [],
   "source": []
  }
 ],
 "metadata": {
  "kernelspec": {
   "display_name": "Python 3",
   "language": "python",
   "name": "python3"
  },
  "language_info": {
   "codemirror_mode": {
    "name": "ipython",
    "version": 3
   },
   "file_extension": ".py",
   "mimetype": "text/x-python",
   "name": "python",
   "nbconvert_exporter": "python",
   "pygments_lexer": "ipython3",
   "version": "3.13.0"
  }
 },
 "nbformat": 4,
 "nbformat_minor": 2
}
